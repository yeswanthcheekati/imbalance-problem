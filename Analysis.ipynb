{
 "cells": [
  {
   "cell_type": "code",
   "execution_count": 35,
   "metadata": {
    "collapsed": true
   },
   "outputs": [],
   "source": [
    "import pandas as pd\n",
    "import numpy as np\n",
    "import seaborn as sns\n",
    "import matplotlib.pyplot as plt\n",
    "%matplotlib inline\n",
    "\n",
    "pd.options.mode.chained_assignment = None"
   ]
  },
  {
   "cell_type": "code",
   "execution_count": 36,
   "metadata": {
    "collapsed": true
   },
   "outputs": [],
   "source": [
    "from sklearn.model_selection import train_test_split"
   ]
  },
  {
   "cell_type": "code",
   "execution_count": 37,
   "metadata": {
    "collapsed": true
   },
   "outputs": [],
   "source": [
    "train = pd.read_csv('train_ZoGVYWq.csv',index_col=0)\n",
    "test = pd.read_csv('test_66516Ee.csv',index_col=0)"
   ]
  },
  {
   "cell_type": "code",
   "execution_count": 38,
   "metadata": {},
   "outputs": [
    {
     "data": {
      "text/plain": [
       "Index(['perc_premium_paid_by_cash_credit', 'age_in_days', 'Income',\n",
       "       'Count_3-6_months_late', 'Count_6-12_months_late',\n",
       "       'Count_more_than_12_months_late', 'application_underwriting_score',\n",
       "       'no_of_premiums_paid', 'sourcing_channel', 'residence_area_type',\n",
       "       'premium', 'renewal'],\n",
       "      dtype='object')"
      ]
     },
     "execution_count": 38,
     "metadata": {},
     "output_type": "execute_result"
    }
   ],
   "source": [
    "train.columns"
   ]
  },
  {
   "cell_type": "code",
   "execution_count": 39,
   "metadata": {
    "collapsed": true
   },
   "outputs": [],
   "source": [
    "train['Income_per_age'] = train['Income']/train['age_in_days']\n",
    "test['Income_per_age'] = test['Income']/test['age_in_days']\n",
    "\n",
    "train['total_premium'] = train['premium']*train['no_of_premiums_paid']\n",
    "test['total_premium'] = test['premium']*test['no_of_premiums_paid']\n",
    "\n",
    "train['premium_cash_credit'] = train['total_premium']*train['perc_premium_paid_by_cash_credit']\n",
    "test['premium_cash_credit'] = test['total_premium']*test['perc_premium_paid_by_cash_credit']"
   ]
  },
  {
   "cell_type": "code",
   "execution_count": 40,
   "metadata": {},
   "outputs": [
    {
     "data": {
      "text/html": [
       "<div>\n",
       "<style>\n",
       "    .dataframe thead tr:only-child th {\n",
       "        text-align: right;\n",
       "    }\n",
       "\n",
       "    .dataframe thead th {\n",
       "        text-align: left;\n",
       "    }\n",
       "\n",
       "    .dataframe tbody tr th {\n",
       "        vertical-align: top;\n",
       "    }\n",
       "</style>\n",
       "<table border=\"1\" class=\"dataframe\">\n",
       "  <thead>\n",
       "    <tr style=\"text-align: right;\">\n",
       "      <th></th>\n",
       "      <th>perc_premium_paid_by_cash_credit</th>\n",
       "      <th>age_in_days</th>\n",
       "      <th>Income</th>\n",
       "      <th>Count_3-6_months_late</th>\n",
       "      <th>Count_6-12_months_late</th>\n",
       "      <th>Count_more_than_12_months_late</th>\n",
       "      <th>application_underwriting_score</th>\n",
       "      <th>no_of_premiums_paid</th>\n",
       "      <th>sourcing_channel</th>\n",
       "      <th>residence_area_type</th>\n",
       "      <th>premium</th>\n",
       "      <th>renewal</th>\n",
       "      <th>Income_per_age</th>\n",
       "      <th>total_premium</th>\n",
       "      <th>premium_cash_credit</th>\n",
       "    </tr>\n",
       "    <tr>\n",
       "      <th>id</th>\n",
       "      <th></th>\n",
       "      <th></th>\n",
       "      <th></th>\n",
       "      <th></th>\n",
       "      <th></th>\n",
       "      <th></th>\n",
       "      <th></th>\n",
       "      <th></th>\n",
       "      <th></th>\n",
       "      <th></th>\n",
       "      <th></th>\n",
       "      <th></th>\n",
       "      <th></th>\n",
       "      <th></th>\n",
       "      <th></th>\n",
       "    </tr>\n",
       "  </thead>\n",
       "  <tbody>\n",
       "    <tr>\n",
       "      <th>110936</th>\n",
       "      <td>0.429</td>\n",
       "      <td>12058</td>\n",
       "      <td>355060</td>\n",
       "      <td>0.0</td>\n",
       "      <td>0.0</td>\n",
       "      <td>0.0</td>\n",
       "      <td>99.02</td>\n",
       "      <td>13</td>\n",
       "      <td>C</td>\n",
       "      <td>Urban</td>\n",
       "      <td>3300</td>\n",
       "      <td>1</td>\n",
       "      <td>29.446011</td>\n",
       "      <td>42900</td>\n",
       "      <td>18404.1</td>\n",
       "    </tr>\n",
       "    <tr>\n",
       "      <th>41492</th>\n",
       "      <td>0.010</td>\n",
       "      <td>21546</td>\n",
       "      <td>315150</td>\n",
       "      <td>0.0</td>\n",
       "      <td>0.0</td>\n",
       "      <td>0.0</td>\n",
       "      <td>99.89</td>\n",
       "      <td>21</td>\n",
       "      <td>A</td>\n",
       "      <td>Urban</td>\n",
       "      <td>18000</td>\n",
       "      <td>1</td>\n",
       "      <td>14.626845</td>\n",
       "      <td>378000</td>\n",
       "      <td>3780.0</td>\n",
       "    </tr>\n",
       "  </tbody>\n",
       "</table>\n",
       "</div>"
      ],
      "text/plain": [
       "        perc_premium_paid_by_cash_credit  age_in_days  Income  \\\n",
       "id                                                              \n",
       "110936                             0.429        12058  355060   \n",
       "41492                              0.010        21546  315150   \n",
       "\n",
       "        Count_3-6_months_late  Count_6-12_months_late  \\\n",
       "id                                                      \n",
       "110936                    0.0                     0.0   \n",
       "41492                     0.0                     0.0   \n",
       "\n",
       "        Count_more_than_12_months_late  application_underwriting_score  \\\n",
       "id                                                                       \n",
       "110936                             0.0                           99.02   \n",
       "41492                              0.0                           99.89   \n",
       "\n",
       "        no_of_premiums_paid sourcing_channel residence_area_type  premium  \\\n",
       "id                                                                          \n",
       "110936                   13                C               Urban     3300   \n",
       "41492                    21                A               Urban    18000   \n",
       "\n",
       "        renewal  Income_per_age  total_premium  premium_cash_credit  \n",
       "id                                                                   \n",
       "110936        1       29.446011          42900              18404.1  \n",
       "41492         1       14.626845         378000               3780.0  "
      ]
     },
     "execution_count": 40,
     "metadata": {},
     "output_type": "execute_result"
    }
   ],
   "source": [
    "train.head(2)"
   ]
  },
  {
   "cell_type": "code",
   "execution_count": 41,
   "metadata": {
    "collapsed": true
   },
   "outputs": [],
   "source": [
    "desc = train.describe().loc[['mean','std']]\n",
    "desc.drop('renewal',inplace=True,axis=1)"
   ]
  },
  {
   "cell_type": "code",
   "execution_count": 42,
   "metadata": {
    "collapsed": true
   },
   "outputs": [],
   "source": [
    "#train\n",
    "for col in desc.columns:\n",
    "    mean = desc[col]['mean']\n",
    "    std = desc[col]['std']\n",
    "    train[col] = (train[col]-mean)/std\n",
    "#test\n",
    "for col in desc.columns:\n",
    "    mean = desc[col]['mean']\n",
    "    std = desc[col]['std']\n",
    "    test[col] = (test[col]-mean)/std"
   ]
  },
  {
   "cell_type": "code",
   "execution_count": 43,
   "metadata": {
    "collapsed": true
   },
   "outputs": [],
   "source": [
    "unique_channel = list(sorted(set(train.sourcing_channel)))\n",
    "unique_res = list(sorted(set(train.residence_area_type)))"
   ]
  },
  {
   "cell_type": "code",
   "execution_count": 44,
   "metadata": {
    "collapsed": true
   },
   "outputs": [],
   "source": [
    "def encode_feature(feature_values,unique_list,column):\n",
    "    encoded_list = []\n",
    "    index = feature_values.index\n",
    "    feature_values = feature_values.values\n",
    "    for element in feature_values:\n",
    "        encoded_vec = [0]*len(unique_list)\n",
    "        encoded_vec[unique_list.index(element)] = 1\n",
    "        encoded_list.append(encoded_vec)\n",
    "    return pd.DataFrame(encoded_list,index=index,columns=[column + element for element in unique_list])"
   ]
  },
  {
   "cell_type": "code",
   "execution_count": 45,
   "metadata": {},
   "outputs": [],
   "source": [
    "#train\n",
    "temp_channel = encode_feature(train.sourcing_channel,unique_channel,'sourcing_channel')\n",
    "temp_res = encode_feature(train.residence_area_type,unique_res,'residence_area_type')\n",
    "#test\n",
    "test_temp_channel = encode_feature(test.sourcing_channel,unique_channel,'sourcing_channel')\n",
    "test_temp_res = encode_feature(test.residence_area_type,unique_res,'residence_area_type')"
   ]
  },
  {
   "cell_type": "code",
   "execution_count": 46,
   "metadata": {
    "collapsed": true
   },
   "outputs": [],
   "source": [
    "#train\n",
    "train.drop(['sourcing_channel','residence_area_type'],inplace=True,axis=1)\n",
    "#test\n",
    "test.drop(['sourcing_channel','residence_area_type'],inplace=True,axis=1)"
   ]
  },
  {
   "cell_type": "code",
   "execution_count": 47,
   "metadata": {
    "collapsed": true
   },
   "outputs": [],
   "source": [
    "#train\n",
    "train = pd.concat([train,temp_channel,temp_res],axis=1)\n",
    "del temp_channel,temp_res\n",
    "#test\n",
    "test = pd.concat([test,test_temp_channel,test_temp_res],axis=1)\n",
    "del test_temp_channel,test_temp_res"
   ]
  },
  {
   "cell_type": "code",
   "execution_count": 48,
   "metadata": {
    "collapsed": true
   },
   "outputs": [],
   "source": [
    "train_nan = train[(train.isnull().sum(axis=1)>0).values]\n",
    "#test\n",
    "test_nan = test[(test.isnull().sum(axis=1)>0).values]"
   ]
  },
  {
   "cell_type": "code",
   "execution_count": 49,
   "metadata": {
    "collapsed": true
   },
   "outputs": [],
   "source": [
    "assert train.shape[0] == train_nan.shape[0] + train.dropna().shape[0]\n",
    "assert test.shape[0] == test_nan.shape[0] + test.dropna().shape[0]"
   ]
  },
  {
   "cell_type": "code",
   "execution_count": 50,
   "metadata": {
    "collapsed": true
   },
   "outputs": [],
   "source": [
    "train.dropna(inplace=True)\n",
    "test.dropna(inplace=True)"
   ]
  },
  {
   "cell_type": "code",
   "execution_count": 51,
   "metadata": {
    "collapsed": true
   },
   "outputs": [],
   "source": [
    "def impute(i,train,data_nan):\n",
    "    row = data_nan.loc[i]\n",
    "    temp_col = row[pd.isnull(row)==False].index\n",
    "    fill_col = row[pd.isnull(row)==True].index\n",
    "    mag = np.linalg.norm(train[temp_col].values - row[temp_col].values,axis=1)\n",
    "    index = np.where(mag == mag.min())[0][0]\n",
    "    id_ = train.iloc[index].name\n",
    "    return fill_col,id_"
   ]
  },
  {
   "cell_type": "code",
   "execution_count": 52,
   "metadata": {},
   "outputs": [],
   "source": [
    "#train\n",
    "for i in train_nan.index:\n",
    "    fill_col,id_ = impute(i,train,train_nan)\n",
    "    train_nan.loc[i,fill_col] = train.loc[id_,fill_col]\n",
    "#test\n",
    "for i in test_nan.index:\n",
    "    fill_col,id_ = impute(i,train,test_nan)\n",
    "    test_nan.loc[i,fill_col] = train.loc[id_,fill_col]"
   ]
  },
  {
   "cell_type": "code",
   "execution_count": 53,
   "metadata": {
    "collapsed": true
   },
   "outputs": [],
   "source": [
    "train = pd.concat([train,train_nan],axis=0)\n",
    "del train_nan\n",
    "#test\n",
    "test = pd.concat([test,test_nan],axis=0)\n",
    "del test_nan"
   ]
  },
  {
   "cell_type": "code",
   "execution_count": 54,
   "metadata": {
    "collapsed": true
   },
   "outputs": [],
   "source": [
    "y = train['renewal']\n",
    "x = train.drop('renewal',axis=1)"
   ]
  },
  {
   "cell_type": "code",
   "execution_count": 55,
   "metadata": {
    "collapsed": true
   },
   "outputs": [],
   "source": [
    "x_train, x_test, y_train, y_test = train_test_split(x, y, test_size=0.20)"
   ]
  },
  {
   "cell_type": "code",
   "execution_count": 57,
   "metadata": {
    "collapsed": true
   },
   "outputs": [],
   "source": [
    "from sklearn.linear_model import LogisticRegressionCV\n",
    "from sklearn.metrics import confusion_matrix,roc_auc_score,roc_curve,precision_score,recall_score,f1_score\n",
    "from sklearn.ensemble import RandomForestClassifier,GradientBoostingClassifier,BaggingClassifier\n",
    "from imblearn import over_sampling,under_sampling,combine\n",
    "from sklearn.svm import SVC"
   ]
  },
  {
   "cell_type": "code",
   "execution_count": 58,
   "metadata": {
    "collapsed": true
   },
   "outputs": [],
   "source": [
    "ros = over_sampling.ADASYN()\n",
    "rus = under_sampling.NearMiss()\n",
    "rcs = combine.SMOTEENN()       \n",
    "rcs2 = combine.SMOTETomek()"
   ]
  },
  {
   "cell_type": "code",
   "execution_count": 59,
   "metadata": {
    "collapsed": true
   },
   "outputs": [],
   "source": [
    "from xgboost import XGBClassifier"
   ]
  },
  {
   "cell_type": "code",
   "execution_count": 60,
   "metadata": {
    "collapsed": true
   },
   "outputs": [],
   "source": [
    "x_rs,y_rs = ros.fit_sample(x_train,y_train)"
   ]
  },
  {
   "cell_type": "code",
   "execution_count": 82,
   "metadata": {},
   "outputs": [],
   "source": [
    "import pickle"
   ]
  },
  {
   "cell_type": "code",
   "execution_count": 80,
   "metadata": {},
   "outputs": [
    {
     "name": "stderr",
     "output_type": "stream",
     "text": [
      "C:\\Users\\cheekati\\Anaconda3\\lib\\site-packages\\sklearn\\preprocessing\\label.py:151: DeprecationWarning: The truth value of an empty array is ambiguous. Returning False, but in future this will result in an error. Use `array.size > 0` to check that an array is not empty.\n",
      "  if diff:\n"
     ]
    },
    {
     "data": {
      "text/plain": [
       "0.7610138332037997"
      ]
     },
     "execution_count": 80,
     "metadata": {},
     "output_type": "execute_result"
    }
   ],
   "source": [
    "xgb = XGBClassifier(n_estimators=300,subsample=0.7,max_depth=3,learning_rate=0.01).fit(x_rs,y_rs)\n",
    "roc_auc_score(y_test,xgb.predict(x_test.values))"
   ]
  },
  {
   "cell_type": "code",
   "execution_count": 83,
   "metadata": {},
   "outputs": [
    {
     "name": "stdout",
     "output_type": "stream",
     "text": [
      "model complete\n"
     ]
    }
   ],
   "source": [
    "filename = 'C:/Users/cheekati/Desktop/ml/AV Mck/xgb.pkl'\n",
    "f =  open(filename, 'wb')\n",
    "pickle.dump(xgb, f)\n",
    "print('model complete')\n"
   ]
  },
  {
   "cell_type": "code",
   "execution_count": null,
   "metadata": {},
   "outputs": [],
   "source": [
    "log = BaggingClassifier(LogisticRegressionCV(Cs=6))\n",
    "rf = BaggingClassifier(RandomForestClassifier())\n",
    "gbc = BaggingClassifier(GradientBoostingClassifier(n_estimators=250,learning_rate=0.01))\n",
    "sv = SVC(C=0.8,probability=True)\n",
    "for sample in [rcs,rcs2]:\n",
    "    x_rs,y_rs = sample.fit_sample(x_train,y_train)\n",
    "    for model in [log,rf,gbc]:\n",
    "        model.fit(x_rs,y_rs)\n",
    "        print('roc : ',roc_auc_score(y_test,model.predict_proba(x_test)[:,1]))"
   ]
  },
  {
   "cell_type": "code",
   "execution_count": null,
   "metadata": {
    "collapsed": true
   },
   "outputs": [],
   "source": [
    "log = BaggingClassifier(LogisticRegressionCV(Cs=6)).fit(x_rs,y_rs)\n",
    "print('roc : ',roc_auc_score(y_test,log.predict(x_test)))\n",
    "print('Precision : ', precision_score(y_test,log.predict(x_test)))\n",
    "print('Recall : ', recall_score(y_test,log.predict(x_test)))\n",
    "print('f1 : ', f1_score(y_test,log.predict(x_test)))\n",
    "confusion_matrix(y_test,log.predict(x_test))"
   ]
  },
  {
   "cell_type": "code",
   "execution_count": null,
   "metadata": {
    "collapsed": true
   },
   "outputs": [],
   "source": [
    "rf = BaggingClassifier(RandomForestClassifier()).fit(x_rs,y_rs)\n",
    "print('roc : ',roc_auc_score(y_test,rf.predict(x_test)))\n",
    "print('Precision : ', precision_score(y_test,rf.predict(x_test)))\n",
    "print('Recall : ', recall_score(y_test,rf.predict(x_test)))\n",
    "print('f1 : ', f1_score(y_test,rf.predict(x_test)))\n",
    "confusion_matrix(y_test,rf.predict(x_test))"
   ]
  },
  {
   "cell_type": "code",
   "execution_count": null,
   "metadata": {
    "collapsed": true
   },
   "outputs": [],
   "source": [
    "gbc = BaggingClassifier(GradientBoostingClassifier(n_estimators=250,learning_rate=0.01)).fit(x_rs,y_rs)\n",
    "print('roc : ',roc_auc_score(y_test,gbc.predict(x_test)))\n",
    "print('Precision : ', precision_score(y_test,gbc.predict(x_test)))\n",
    "print('Recall : ', recall_score(y_test,gbc.predict(x_test)))\n",
    "print('f1 : ', f1_score(y_test,gbc.predict(x_test)))\n",
    "confusion_matrix(y_test,gbc.predict(x_test))"
   ]
  },
  {
   "cell_type": "code",
   "execution_count": null,
   "metadata": {
    "collapsed": true
   },
   "outputs": [],
   "source": [
    "sv = SVC(C=10).fit(x_rs,y_rs)\n",
    "print('roc : ',roc_auc_score(y_test,sv.predict(x_test)))\n",
    "# print('Precision : ', precision_score(y_test,sv.predict(x_test)))\n",
    "# print('Recall : ', recall_score(y_test,sv.predict(x_test)))\n",
    "# print('f1 : ', f1_score(y_test,sv.predict(x_test)))\n",
    "# confusion_matrix(y_test,log.predict(x_test))"
   ]
  },
  {
   "cell_type": "code",
   "execution_count": null,
   "metadata": {
    "collapsed": true
   },
   "outputs": [],
   "source": [
    "fpr,tpr,_ = roc_curve(y_test.values,gbc.predict_proba(x_test)[:,1])\n",
    "plt.plot(fpr,tpr)\n",
    "fpr,tpr,_ = roc_curve(y_test.values,log.predict_proba(x_test)[:,1])\n",
    "plt.plot(fpr,tpr)"
   ]
  },
  {
   "cell_type": "code",
   "execution_count": null,
   "metadata": {
    "collapsed": true
   },
   "outputs": [],
   "source": [
    "(y_test == 0).sum()"
   ]
  },
  {
   "cell_type": "code",
   "execution_count": null,
   "metadata": {
    "collapsed": true
   },
   "outputs": [],
   "source": [
    "y_pred = 1\n",
    "premium = 3300\n",
    "def revenue(incen,y_pred=1,premium=1200):\n",
    "    effort = 10*(1-np.exp(-incen/400))\n",
    "    delp = 20*(1-np.exp(-effort/5))\n",
    "    revenue = ((y_pred + delp)*premium) - incen\n",
    "    return revenue"
   ]
  },
  {
   "cell_type": "code",
   "execution_count": null,
   "metadata": {
    "collapsed": true
   },
   "outputs": [],
   "source": [
    "x = []\n",
    "for i in range(10000):\n",
    "    x.append(revenue(i))"
   ]
  },
  {
   "cell_type": "code",
   "execution_count": null,
   "metadata": {
    "collapsed": true
   },
   "outputs": [],
   "source": [
    "x.index(max(x))"
   ]
  },
  {
   "cell_type": "code",
   "execution_count": null,
   "metadata": {
    "collapsed": true
   },
   "outputs": [],
   "source": [
    "plt.plot(x)"
   ]
  },
  {
   "cell_type": "code",
   "execution_count": null,
   "metadata": {
    "collapsed": true
   },
   "outputs": [],
   "source": [
    "train = pd.read_csv('train_ZoGVYWq.csv',index_col=0)\n",
    "train.head(2)"
   ]
  },
  {
   "cell_type": "code",
   "execution_count": null,
   "metadata": {
    "collapsed": true
   },
   "outputs": [],
   "source": [
    "incen = list(range(5000))\n",
    "from scipy.optimize import fmin"
   ]
  },
  {
   "cell_type": "code",
   "execution_count": null,
   "metadata": {
    "collapsed": true
   },
   "outputs": [],
   "source": [
    "fmin(revenue,incen)"
   ]
  },
  {
   "cell_type": "code",
   "execution_count": null,
   "metadata": {
    "collapsed": true
   },
   "outputs": [],
   "source": []
  }
 ],
 "metadata": {
  "kernelspec": {
   "display_name": "Python 3",
   "language": "python",
   "name": "python3"
  },
  "language_info": {
   "codemirror_mode": {
    "name": "ipython",
    "version": 3
   },
   "file_extension": ".py",
   "mimetype": "text/x-python",
   "name": "python",
   "nbconvert_exporter": "python",
   "pygments_lexer": "ipython3",
   "version": "3.6.3"
  }
 },
 "nbformat": 4,
 "nbformat_minor": 2
}
